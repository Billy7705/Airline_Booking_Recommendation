{
 "cells": [
  {
   "cell_type": "code",
   "execution_count": 1,
   "id": "44736a5e",
   "metadata": {},
   "outputs": [],
   "source": [
    "import pandas as pd\n",
    "import numpy as np\n",
    "import torch\n",
    "import torch.autograd as autograd \n",
    "import torch.nn as nn \n",
    "import torch.nn.functional as F\n",
    "import torch.optim as optim\n",
    "import random\n",
    "from torch.utils.data import TensorDataset, DataLoader"
   ]
  },
  {
   "cell_type": "code",
   "execution_count": 2,
   "id": "3d33dfe2",
   "metadata": {},
   "outputs": [
    {
     "data": {
      "text/html": [
       "<div>\n",
       "<style scoped>\n",
       "    .dataframe tbody tr th:only-of-type {\n",
       "        vertical-align: middle;\n",
       "    }\n",
       "\n",
       "    .dataframe tbody tr th {\n",
       "        vertical-align: top;\n",
       "    }\n",
       "\n",
       "    .dataframe thead th {\n",
       "        text-align: right;\n",
       "    }\n",
       "</style>\n",
       "<table border=\"1\" class=\"dataframe\">\n",
       "  <thead>\n",
       "    <tr style=\"text-align: right;\">\n",
       "      <th></th>\n",
       "      <th>user_id</th>\n",
       "      <th>item_id</th>\n",
       "      <th>context_feature_id</th>\n",
       "    </tr>\n",
       "  </thead>\n",
       "  <tbody>\n",
       "    <tr>\n",
       "      <th>0</th>\n",
       "      <td>0</td>\n",
       "      <td>28366</td>\n",
       "      <td>2</td>\n",
       "    </tr>\n",
       "    <tr>\n",
       "      <th>1</th>\n",
       "      <td>0</td>\n",
       "      <td>16109</td>\n",
       "      <td>2</td>\n",
       "    </tr>\n",
       "    <tr>\n",
       "      <th>2</th>\n",
       "      <td>0</td>\n",
       "      <td>11500</td>\n",
       "      <td>3</td>\n",
       "    </tr>\n",
       "    <tr>\n",
       "      <th>3</th>\n",
       "      <td>0</td>\n",
       "      <td>20750</td>\n",
       "      <td>2</td>\n",
       "    </tr>\n",
       "    <tr>\n",
       "      <th>4</th>\n",
       "      <td>0</td>\n",
       "      <td>8759</td>\n",
       "      <td>2</td>\n",
       "    </tr>\n",
       "  </tbody>\n",
       "</table>\n",
       "</div>"
      ],
      "text/plain": [
       "   user_id  item_id  context_feature_id\n",
       "0        0    28366                   2\n",
       "1        0    16109                   2\n",
       "2        0    11500                   3\n",
       "3        0    20750                   2\n",
       "4        0     8759                   2"
      ]
     },
     "execution_count": 2,
     "metadata": {},
     "output_type": "execute_result"
    }
   ],
   "source": [
    "data = pd.read_csv('training.csv')\n",
    "items_features = pd.read_csv('item_feature.csv')\n",
    "data.head()"
   ]
  },
  {
   "cell_type": "code",
   "execution_count": 3,
   "id": "cc0d2627",
   "metadata": {},
   "outputs": [
    {
     "data": {
      "text/plain": [
       "0         6\n",
       "1         4\n",
       "2         6\n",
       "3         4\n",
       "5         5\n",
       "         ..\n",
       "200147    8\n",
       "200148    4\n",
       "200149    7\n",
       "200150    1\n",
       "200152    5\n",
       "Name: user_id, Length: 169698, dtype: int64"
      ]
     },
     "execution_count": 3,
     "metadata": {},
     "output_type": "execute_result"
    }
   ],
   "source": [
    "data.user_id.value_counts().sort_index()"
   ]
  },
  {
   "cell_type": "code",
   "execution_count": 4,
   "id": "51d14b26",
   "metadata": {},
   "outputs": [],
   "source": [
    "n = data.shape[0]"
   ]
  },
  {
   "cell_type": "markdown",
   "id": "ab915451",
   "metadata": {},
   "source": [
    "# Zero Sampling"
   ]
  },
  {
   "cell_type": "code",
   "execution_count": 5,
   "id": "fd608b4d",
   "metadata": {},
   "outputs": [],
   "source": [
    "data['feedback'] = 1"
   ]
  },
  {
   "cell_type": "code",
   "execution_count": 6,
   "id": "1ce39e32",
   "metadata": {},
   "outputs": [
    {
     "data": {
      "text/plain": [
       "(970245, 4)"
      ]
     },
     "execution_count": 6,
     "metadata": {},
     "output_type": "execute_result"
    }
   ],
   "source": [
    "data.shape"
   ]
  },
  {
   "cell_type": "code",
   "execution_count": null,
   "id": "145d639a",
   "metadata": {},
   "outputs": [],
   "source": []
  },
  {
   "cell_type": "code",
   "execution_count": 7,
   "id": "dd8ec332",
   "metadata": {},
   "outputs": [],
   "source": [
    "def zero_sampling(df_, users_list, item_list, context_list, all_users = False, all_items = False, k=1):\n",
    "    random.seed(0)\n",
    "    N = df_.shape[0]\n",
    "    result_array = []\n",
    "    for i in range(int(N * k)):\n",
    "        rand_user = random.choice(users_list)\n",
    "        rand_item = random.choice(item_list)\n",
    "        rand_context = random.choice(context_list)\n",
    "        fake_feedback = 0\n",
    "        random_gen = (rand_user, rand_item, rand_context, fake_feedback)\n",
    "        result_array.append(random_gen)\n",
    "    \n",
    "    if all_users: \n",
    "        for user in users_list:\n",
    "            rand_item = random.choice(item_list)\n",
    "            rand_context = random.choice(context_list)\n",
    "            fake_feedback = 0\n",
    "            random_gen = (user, rand_item, rand_context, fake_feedback)\n",
    "            result_array.append(random_gen)\n",
    "            \n",
    "    if all_items:\n",
    "        for item in item_list:\n",
    "            rand_user = random.choice(users_list)\n",
    "            rand_context = random.choice(context_list)\n",
    "            fake_feedback = 0\n",
    "            random_gen = (rand_user, item, rand_context, fake_feedback)\n",
    "            result_array.append(random_gen)\n",
    "    \n",
    "    zero_df = pd.DataFrame(result_array, columns=['user_id', 'item_id', 'context_feature_id', 'feedback'])\n",
    "    \n",
    "    df_with_zeros = pd.concat([df_, zero_df])\n",
    "    df_with_zeros = df_with_zeros.drop_duplicates(subset=['user_id', 'item_id'], keep='first')\n",
    "    return df_with_zeros"
   ]
  },
  {
   "cell_type": "code",
   "execution_count": 8,
   "id": "c2fc9000",
   "metadata": {},
   "outputs": [],
   "source": [
    "# unique users items and context\n",
    "# users = np.sort(data.user_id.unique())\n",
    "# unique_items = np.sort(data.item_id.unique())\n",
    "# context = np.sort(data.context_feature_id.unique())\n",
    "\n",
    "users = np.arange(0, data.user_id.max())\n",
    "unique_items = np.arange(0, data.item_id.max())\n",
    "context = np.arange(0,data.context_feature_id.max())\n",
    "\n",
    "# call zero sampling to get dataframe with zeros\n",
    "df = zero_sampling(data, users, unique_items, context, all_users=True, all_items=False, k=1.2)"
   ]
  },
  {
   "cell_type": "markdown",
   "id": "99a4086e",
   "metadata": {},
   "source": [
    "# Train Test Split"
   ]
  },
  {
   "cell_type": "code",
   "execution_count": 9,
   "id": "00b16607",
   "metadata": {},
   "outputs": [],
   "source": [
    "# train test split\n",
    "np.random.seed(0)\n",
    "mask = np.random.rand(len(df)) < 0.8\n",
    "train = df[mask].reset_index()\n",
    "valid = df[~mask].reset_index()"
   ]
  },
  {
   "cell_type": "markdown",
   "id": "6fc8a703",
   "metadata": {},
   "source": [
    "# Matrix Factorization"
   ]
  },
  {
   "cell_type": "code",
   "execution_count": 10,
   "id": "3b7c761c",
   "metadata": {},
   "outputs": [],
   "source": [
    "class MF(nn.Module):\n",
    "    def __init__(self, num_users, num_items, emb_size=100, seed=23):\n",
    "        super(MF, self).__init__()\n",
    "        torch.manual_seed(seed)\n",
    "        self.user_emb = nn.Embedding(num_users, emb_size)\n",
    "        self.user_bias = nn.Embedding(num_users, 1)\n",
    "        self.item_emb = nn.Embedding(num_items, emb_size)\n",
    "        self.item_bias = nn.Embedding(num_items, 1)\n",
    "        # init \n",
    "        self.user_emb.weight.data.uniform_(0,0.05)\n",
    "        self.item_emb.weight.data.uniform_(0,0.05)\n",
    "        self.user_bias.weight.data.uniform_(-0.01,0.01)\n",
    "        self.item_bias.weight.data.uniform_(-0.01,0.01)\n",
    "\n",
    "    def forward(self, u, v):\n",
    "        U = self.user_emb(u)\n",
    "        V = self.item_emb(v)\n",
    "        b_i = self.user_bias(u).squeeze()\n",
    "        c_j = self.item_bias(v).squeeze()\n",
    "        \n",
    "        return torch.sigmoid((U * V).sum(1) + b_i + c_j)"
   ]
  },
  {
   "cell_type": "code",
   "execution_count": 11,
   "id": "6e6202da",
   "metadata": {},
   "outputs": [
    {
     "name": "stdout",
     "output_type": "stream",
     "text": [
      "200162 39910\n"
     ]
    }
   ],
   "source": [
    "num_users = train.user_id.max() + 10\n",
    "num_items = train.item_id.max() + 10\n",
    "print(num_users, num_items) "
   ]
  },
  {
   "cell_type": "code",
   "execution_count": null,
   "id": "f93c6c46",
   "metadata": {},
   "outputs": [],
   "source": []
  },
  {
   "cell_type": "code",
   "execution_count": 12,
   "id": "1497fa4e",
   "metadata": {},
   "outputs": [],
   "source": [
    "def valid_loss(model):\n",
    "    model.eval()\n",
    "    users = torch.LongTensor(valid.user_id.values) \n",
    "    items = torch.LongTensor(valid.item_id.values) \n",
    "    feedback = torch.FloatTensor(valid.feedback.values) \n",
    "    y_hat = model(users, items)\n",
    "    loss = F.binary_cross_entropy(y_hat, feedback)\n",
    "    return loss.item()"
   ]
  },
  {
   "cell_type": "code",
   "execution_count": 13,
   "id": "c350b1c1",
   "metadata": {},
   "outputs": [],
   "source": [
    "# here we are not using data loaders because our data fits well in memory\n",
    "def train_epocs(model, epochs=10, lr=0.01, wd=0.0):\n",
    "    optimizer = torch.optim.Adam(model.parameters(), lr=lr, weight_decay=wd)\n",
    "    for i in range(epochs):\n",
    "        model.train()\n",
    "        users = torch.LongTensor(train.user_id.values)  \n",
    "        items = torch.LongTensor(train.item_id.values) \n",
    "        feedback = torch.FloatTensor(train.feedback.values)  \n",
    "    \n",
    "        y_hat = model(users, items)\n",
    "        \n",
    "        loss = F.binary_cross_entropy(y_hat, feedback)\n",
    "        optimizer.zero_grad()\n",
    "        loss.backward()\n",
    "        optimizer.step()\n",
    "        testloss = valid_loss(model)\n",
    "        print('Epoch Number:', i+1,\"train loss %.3f valid loss %.3f\" % (loss.item(), testloss)) "
   ]
  },
  {
   "cell_type": "code",
   "execution_count": 14,
   "id": "5b27d297",
   "metadata": {},
   "outputs": [],
   "source": [
    "# here we are not using data loaders because our data fits well in memory\n",
    "def train_epocs_dl(model, epochs=10, lr=0.01, wd=0.0):\n",
    "    optimizer = torch.optim.Adam(model.parameters(), lr=lr, weight_decay=wd)\n",
    "    train_list = []\n",
    "    val_list = []\n",
    "    losses = []\n",
    "    for i in range(epochs):\n",
    "        model.train()\n",
    "        users = torch.LongTensor(train.user_id.values)  \n",
    "        items = torch.LongTensor(train.item_id.values) \n",
    "        feedback = torch.FloatTensor(train.feedback.values) \n",
    "        train_dataset = TensorDataset(users, items, feedback)\n",
    "        train_dl = DataLoader(train_dataset, batch_size=100000, shuffle=True)\n",
    "        for u, it, f in train_dl:\n",
    "            y_hat = model(u, it)\n",
    "            loss = F.binary_cross_entropy(y_hat, f)\n",
    "            optimizer.zero_grad()\n",
    "            loss.backward()\n",
    "            optimizer.step()\n",
    "            losses.append(loss.item())\n",
    "            \n",
    "        train_loss = np.mean(losses)\n",
    "        testloss = valid_loss(model)\n",
    "        train_list.append(train_loss)\n",
    "        val_list.append(testloss)\n",
    "            \n",
    "        print('Epoch Number:', i+1,\"train loss %.3f valid loss %.3f\" % (train_loss, testloss)) \n",
    "    return train_list, val_list"
   ]
  },
  {
   "cell_type": "code",
   "execution_count": null,
   "id": "5ec9936b",
   "metadata": {},
   "outputs": [],
   "source": []
  },
  {
   "cell_type": "code",
   "execution_count": 15,
   "id": "8b10edf7",
   "metadata": {},
   "outputs": [],
   "source": [
    "model = MF(num_users, num_items, emb_size=50) "
   ]
  },
  {
   "cell_type": "code",
   "execution_count": 16,
   "id": "bee882a6",
   "metadata": {},
   "outputs": [
    {
     "name": "stdout",
     "output_type": "stream",
     "text": [
      "Epoch Number: 1 train loss 0.494 valid loss 0.374\n",
      "Epoch Number: 2 train loss 0.400 valid loss 0.322\n",
      "Epoch Number: 3 train loss 0.344 valid loss 0.293\n",
      "Epoch Number: 4 train loss 0.309 valid loss 0.287\n",
      "Epoch Number: 5 train loss 0.290 valid loss 0.285\n",
      "Epoch Number: 6 train loss 0.276 valid loss 0.283\n",
      "Epoch Number: 7 train loss 0.266 valid loss 0.281\n",
      "Epoch Number: 8 train loss 0.258 valid loss 0.281\n",
      "Epoch Number: 9 train loss 0.251 valid loss 0.280\n",
      "Epoch Number: 10 train loss 0.246 valid loss 0.279\n"
     ]
    }
   ],
   "source": [
    "train_score, val_score = train_epocs_dl(model, epochs=10, lr=0.1, wd=0.000001)"
   ]
  },
  {
   "cell_type": "code",
   "execution_count": 17,
   "id": "d0749c90",
   "metadata": {},
   "outputs": [
    {
     "name": "stdout",
     "output_type": "stream",
     "text": [
      "Epoch Number: 1 train loss 0.177 valid loss 0.283\n",
      "Epoch Number: 2 train loss 0.173 valid loss 0.281\n",
      "Epoch Number: 3 train loss 0.170 valid loss 0.278\n",
      "Epoch Number: 4 train loss 0.168 valid loss 0.277\n",
      "Epoch Number: 5 train loss 0.166 valid loss 0.276\n"
     ]
    }
   ],
   "source": [
    "train_score, val_score = train_epocs_dl(model, epochs=5, lr=0.01, wd=0.000001)"
   ]
  },
  {
   "cell_type": "code",
   "execution_count": null,
   "id": "6010ce27",
   "metadata": {},
   "outputs": [],
   "source": []
  },
  {
   "cell_type": "markdown",
   "id": "448737b7",
   "metadata": {},
   "source": [
    "# Test Model"
   ]
  },
  {
   "cell_type": "code",
   "execution_count": 18,
   "id": "1816e7ce",
   "metadata": {},
   "outputs": [
    {
     "data": {
      "text/html": [
       "<div>\n",
       "<style scoped>\n",
       "    .dataframe tbody tr th:only-of-type {\n",
       "        vertical-align: middle;\n",
       "    }\n",
       "\n",
       "    .dataframe tbody tr th {\n",
       "        vertical-align: top;\n",
       "    }\n",
       "\n",
       "    .dataframe thead th {\n",
       "        text-align: right;\n",
       "    }\n",
       "</style>\n",
       "<table border=\"1\" class=\"dataframe\">\n",
       "  <thead>\n",
       "    <tr style=\"text-align: right;\">\n",
       "      <th></th>\n",
       "      <th>id</th>\n",
       "      <th>user_id</th>\n",
       "      <th>item_id</th>\n",
       "      <th>context_feature_id</th>\n",
       "    </tr>\n",
       "  </thead>\n",
       "  <tbody>\n",
       "    <tr>\n",
       "      <th>0</th>\n",
       "      <td>0</td>\n",
       "      <td>4</td>\n",
       "      <td>16835</td>\n",
       "      <td>2</td>\n",
       "    </tr>\n",
       "    <tr>\n",
       "      <th>1</th>\n",
       "      <td>1</td>\n",
       "      <td>4</td>\n",
       "      <td>22590</td>\n",
       "      <td>3</td>\n",
       "    </tr>\n",
       "    <tr>\n",
       "      <th>2</th>\n",
       "      <td>2</td>\n",
       "      <td>4</td>\n",
       "      <td>1978</td>\n",
       "      <td>1</td>\n",
       "    </tr>\n",
       "    <tr>\n",
       "      <th>3</th>\n",
       "      <td>3</td>\n",
       "      <td>4</td>\n",
       "      <td>28916</td>\n",
       "      <td>1</td>\n",
       "    </tr>\n",
       "    <tr>\n",
       "      <th>4</th>\n",
       "      <td>4</td>\n",
       "      <td>4</td>\n",
       "      <td>14427</td>\n",
       "      <td>2</td>\n",
       "    </tr>\n",
       "  </tbody>\n",
       "</table>\n",
       "</div>"
      ],
      "text/plain": [
       "   id  user_id  item_id  context_feature_id\n",
       "0   0        4    16835                   2\n",
       "1   1        4    22590                   3\n",
       "2   2        4     1978                   1\n",
       "3   3        4    28916                   1\n",
       "4   4        4    14427                   2"
      ]
     },
     "execution_count": 18,
     "metadata": {},
     "output_type": "execute_result"
    }
   ],
   "source": [
    "train = df.copy()\n",
    "test = pd.read_csv('test_kaggle.csv')\n",
    "test.head()"
   ]
  },
  {
   "cell_type": "code",
   "execution_count": 19,
   "id": "5c00178b",
   "metadata": {},
   "outputs": [
    {
     "name": "stdout",
     "output_type": "stream",
     "text": [
      "200153 39901\n"
     ]
    }
   ],
   "source": [
    "num_users = train.user_id.max() + 1\n",
    "num_items = train.item_id.max() + 1\n",
    "print(num_users, num_items) "
   ]
  },
  {
   "cell_type": "code",
   "execution_count": 20,
   "id": "0eb85aa7",
   "metadata": {},
   "outputs": [],
   "source": [
    "model = MF(num_users, num_items, emb_size=50) "
   ]
  },
  {
   "cell_type": "code",
   "execution_count": 21,
   "id": "53deb96c",
   "metadata": {},
   "outputs": [
    {
     "name": "stdout",
     "output_type": "stream",
     "text": [
      "Epoch Number: 1 train loss 0.466 valid loss 0.299\n",
      "Epoch Number: 2 train loss 0.382 valid loss 0.204\n",
      "Epoch Number: 3 train loss 0.335 valid loss 0.180\n",
      "Epoch Number: 4 train loss 0.310 valid loss 0.183\n",
      "Epoch Number: 5 train loss 0.295 valid loss 0.179\n",
      "Epoch Number: 6 train loss 0.284 valid loss 0.176\n",
      "Epoch Number: 7 train loss 0.275 valid loss 0.173\n",
      "Epoch Number: 8 train loss 0.269 valid loss 0.172\n",
      "Epoch Number: 9 train loss 0.263 valid loss 0.170\n",
      "Epoch Number: 10 train loss 0.258 valid loss 0.168\n"
     ]
    }
   ],
   "source": [
    "train_score, val_score = train_epocs_dl(model, epochs=10, lr=0.1, wd=0.000001)"
   ]
  },
  {
   "cell_type": "code",
   "execution_count": 22,
   "id": "c9e79825",
   "metadata": {},
   "outputs": [
    {
     "name": "stdout",
     "output_type": "stream",
     "text": [
      "Epoch Number: 1 train loss 0.191 valid loss 0.178\n",
      "Epoch Number: 2 train loss 0.187 valid loss 0.175\n",
      "Epoch Number: 3 train loss 0.185 valid loss 0.171\n",
      "Epoch Number: 4 train loss 0.183 valid loss 0.168\n",
      "Epoch Number: 5 train loss 0.181 valid loss 0.166\n"
     ]
    }
   ],
   "source": [
    "train_score, val_score = train_epocs_dl(model, epochs=5, lr=0.01, wd=0.000001)"
   ]
  },
  {
   "cell_type": "code",
   "execution_count": 23,
   "id": "ecee22b3",
   "metadata": {},
   "outputs": [],
   "source": [
    "# get the predictions\n",
    "test_users = torch.LongTensor(test.user_id.values)\n",
    "test_items = torch.LongTensor(test.item_id.values)\n",
    "y_hat = model(test_users, test_items)"
   ]
  },
  {
   "cell_type": "code",
   "execution_count": 24,
   "id": "48c5d531",
   "metadata": {},
   "outputs": [],
   "source": [
    "# detach to numpy\n",
    "y_hat = y_hat.detach().numpy()"
   ]
  },
  {
   "cell_type": "code",
   "execution_count": 25,
   "id": "ea4ba433",
   "metadata": {},
   "outputs": [],
   "source": [
    "test['rating'] = y_hat"
   ]
  },
  {
   "cell_type": "code",
   "execution_count": 26,
   "id": "402c135b",
   "metadata": {},
   "outputs": [],
   "source": [
    "pred = test['rating']"
   ]
  },
  {
   "cell_type": "code",
   "execution_count": 27,
   "id": "fac8ddd4",
   "metadata": {},
   "outputs": [
    {
     "data": {
      "text/plain": [
       "0         0.451889\n",
       "1         0.290430\n",
       "2         0.827812\n",
       "3         0.153151\n",
       "4         0.149153\n",
       "            ...   \n",
       "381380    0.715378\n",
       "381381    0.972271\n",
       "381382    0.927684\n",
       "381383    0.927684\n",
       "381384    0.212759\n",
       "Name: rating, Length: 381385, dtype: float32"
      ]
     },
     "execution_count": 27,
     "metadata": {},
     "output_type": "execute_result"
    }
   ],
   "source": [
    "pred"
   ]
  },
  {
   "cell_type": "code",
   "execution_count": null,
   "id": "a3174186",
   "metadata": {},
   "outputs": [],
   "source": []
  },
  {
   "cell_type": "code",
   "execution_count": 28,
   "id": "711f66ab",
   "metadata": {},
   "outputs": [],
   "source": [
    "pred.to_csv('dataloader_01_001')"
   ]
  },
  {
   "cell_type": "code",
   "execution_count": 29,
   "id": "dbf7ff2c",
   "metadata": {},
   "outputs": [
    {
     "data": {
      "image/png": "[encoded data removed]",
      "text/plain": [
       "<Figure size 432x288 with 1 Axes>"
      ]
     },
     "metadata": {
      "needs_background": "light"
     },
     "output_type": "display_data"
    }
   ],
   "source": [
    "import matplotlib.pyplot as plt\n",
    "plt.hist(pred, bins = 20)\n",
    "plt.title('Distribution of Predictions')\n",
    "plt.show()"
   ]
  },
  {
   "cell_type": "code",
   "execution_count": null,
   "id": "227b9394",
   "metadata": {},
   "outputs": [],
   "source": []
  },
  {
   "cell_type": "code",
   "execution_count": null,
   "id": "a9a89fd4",
   "metadata": {},
   "outputs": [],
   "source": []
  }
 ],
 "metadata": {
  "kernelspec": {
   "display_name": "Python 3",
   "language": "python",
   "name": "python3"
  },
  "language_info": {
   "codemirror_mode": {
    "name": "ipython",
    "version": 3
   },
   "file_extension": ".py",
   "mimetype": "text/x-python",
   "name": "python",
   "nbconvert_exporter": "python",
   "pygments_lexer": "ipython3",
   "version": "3.9.10"
  }
 },
 "nbformat": 4,
 "nbformat_minor": 5
}
